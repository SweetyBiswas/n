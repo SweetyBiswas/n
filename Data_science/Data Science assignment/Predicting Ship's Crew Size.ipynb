{
 "cells": [
  {
   "cell_type": "raw",
   "id": "6b11c156",
   "metadata": {},
   "source": [
    "The goal of this project is to build a regressor model that recommends the “crew” size for cruise ship using the cruise ship dataset cruise_ship_info.csv."
   ]
  },
  {
   "cell_type": "code",
   "execution_count": 3,
   "id": "510bdbe6",
   "metadata": {},
   "outputs": [],
   "source": [
    "import numpy as np\n",
    "import pandas as pd\n",
    "import matplotlib.pyplot as plt\n",
    "%matplotlib inline\n",
    "import seaborn as sns"
   ]
  },
  {
   "cell_type": "markdown",
   "id": "d47e5be6",
   "metadata": {},
   "source": [
    "### Read dataset and display columns"
   ]
  },
  {
   "cell_type": "code",
   "execution_count": 4,
   "id": "110d13d2",
   "metadata": {},
   "outputs": [],
   "source": [
    "df=pd.read_csv('cruise_ship_info.csv')"
   ]
  },
  {
   "cell_type": "markdown",
   "id": "13ef924e",
   "metadata": {},
   "source": [
    "### Exploratory Data Analysis"
   ]
  },
  {
   "cell_type": "code",
   "execution_count": 5,
   "id": "74c71ee6",
   "metadata": {},
   "outputs": [
    {
     "data": {
      "text/html": [
       "<div>\n",
       "<style scoped>\n",
       "    .dataframe tbody tr th:only-of-type {\n",
       "        vertical-align: middle;\n",
       "    }\n",
       "\n",
       "    .dataframe tbody tr th {\n",
       "        vertical-align: top;\n",
       "    }\n",
       "\n",
       "    .dataframe thead th {\n",
       "        text-align: right;\n",
       "    }\n",
       "</style>\n",
       "<table border=\"1\" class=\"dataframe\">\n",
       "  <thead>\n",
       "    <tr style=\"text-align: right;\">\n",
       "      <th></th>\n",
       "      <th>Ship_name</th>\n",
       "      <th>Cruise_line</th>\n",
       "      <th>Age</th>\n",
       "      <th>Tonnage</th>\n",
       "      <th>passengers</th>\n",
       "      <th>length</th>\n",
       "      <th>cabins</th>\n",
       "      <th>passenger_density</th>\n",
       "      <th>crew</th>\n",
       "    </tr>\n",
       "  </thead>\n",
       "  <tbody>\n",
       "    <tr>\n",
       "      <th>0</th>\n",
       "      <td>Journey</td>\n",
       "      <td>Azamara</td>\n",
       "      <td>6</td>\n",
       "      <td>30.277</td>\n",
       "      <td>6.94</td>\n",
       "      <td>5.94</td>\n",
       "      <td>3.55</td>\n",
       "      <td>42.64</td>\n",
       "      <td>3.55</td>\n",
       "    </tr>\n",
       "    <tr>\n",
       "      <th>1</th>\n",
       "      <td>Quest</td>\n",
       "      <td>Azamara</td>\n",
       "      <td>6</td>\n",
       "      <td>30.277</td>\n",
       "      <td>6.94</td>\n",
       "      <td>5.94</td>\n",
       "      <td>3.55</td>\n",
       "      <td>42.64</td>\n",
       "      <td>3.55</td>\n",
       "    </tr>\n",
       "    <tr>\n",
       "      <th>2</th>\n",
       "      <td>Celebration</td>\n",
       "      <td>Carnival</td>\n",
       "      <td>26</td>\n",
       "      <td>47.262</td>\n",
       "      <td>14.86</td>\n",
       "      <td>7.22</td>\n",
       "      <td>7.43</td>\n",
       "      <td>31.80</td>\n",
       "      <td>6.70</td>\n",
       "    </tr>\n",
       "    <tr>\n",
       "      <th>3</th>\n",
       "      <td>Conquest</td>\n",
       "      <td>Carnival</td>\n",
       "      <td>11</td>\n",
       "      <td>110.000</td>\n",
       "      <td>29.74</td>\n",
       "      <td>9.53</td>\n",
       "      <td>14.88</td>\n",
       "      <td>36.99</td>\n",
       "      <td>19.10</td>\n",
       "    </tr>\n",
       "    <tr>\n",
       "      <th>4</th>\n",
       "      <td>Destiny</td>\n",
       "      <td>Carnival</td>\n",
       "      <td>17</td>\n",
       "      <td>101.353</td>\n",
       "      <td>26.42</td>\n",
       "      <td>8.92</td>\n",
       "      <td>13.21</td>\n",
       "      <td>38.36</td>\n",
       "      <td>10.00</td>\n",
       "    </tr>\n",
       "  </tbody>\n",
       "</table>\n",
       "</div>"
      ],
      "text/plain": [
       "     Ship_name Cruise_line  Age  Tonnage  passengers  length  cabins  \\\n",
       "0      Journey     Azamara    6   30.277        6.94    5.94    3.55   \n",
       "1        Quest     Azamara    6   30.277        6.94    5.94    3.55   \n",
       "2  Celebration    Carnival   26   47.262       14.86    7.22    7.43   \n",
       "3     Conquest    Carnival   11  110.000       29.74    9.53   14.88   \n",
       "4      Destiny    Carnival   17  101.353       26.42    8.92   13.21   \n",
       "\n",
       "   passenger_density   crew  \n",
       "0              42.64   3.55  \n",
       "1              42.64   3.55  \n",
       "2              31.80   6.70  \n",
       "3              36.99  19.10  \n",
       "4              38.36  10.00  "
      ]
     },
     "execution_count": 5,
     "metadata": {},
     "output_type": "execute_result"
    }
   ],
   "source": [
    "df.head()"
   ]
  },
  {
   "cell_type": "markdown",
   "id": "d996fcbd",
   "metadata": {},
   "source": [
    "##### This is a supervised learning problem since both target and feature are known to us.\n",
    "##### We independent  variables Ship_name,Cruise_line,age, tonnage, passengers, length, cabins and passenger_density and dependent variable is crew .how the independent variables influence the number of crew on board we will find out.\n",
    "##### The target variable is continuous so this is falls under Regression.We have to find out the cousal effect relationship,Since regression analysis helps us to understand how the value of the dependent variable is changing corresponding to an independent variable."
   ]
  },
  {
   "cell_type": "code",
   "execution_count": 6,
   "id": "0884ef73",
   "metadata": {},
   "outputs": [
    {
     "data": {
      "text/html": [
       "<div>\n",
       "<style scoped>\n",
       "    .dataframe tbody tr th:only-of-type {\n",
       "        vertical-align: middle;\n",
       "    }\n",
       "\n",
       "    .dataframe tbody tr th {\n",
       "        vertical-align: top;\n",
       "    }\n",
       "\n",
       "    .dataframe thead th {\n",
       "        text-align: right;\n",
       "    }\n",
       "</style>\n",
       "<table border=\"1\" class=\"dataframe\">\n",
       "  <thead>\n",
       "    <tr style=\"text-align: right;\">\n",
       "      <th></th>\n",
       "      <th>Ship_name</th>\n",
       "      <th>Cruise_line</th>\n",
       "      <th>Age</th>\n",
       "      <th>Tonnage</th>\n",
       "      <th>passengers</th>\n",
       "      <th>length</th>\n",
       "      <th>cabins</th>\n",
       "      <th>passenger_density</th>\n",
       "      <th>crew</th>\n",
       "    </tr>\n",
       "  </thead>\n",
       "  <tbody>\n",
       "    <tr>\n",
       "      <th>153</th>\n",
       "      <td>Taurus</td>\n",
       "      <td>Star</td>\n",
       "      <td>22</td>\n",
       "      <td>3.341</td>\n",
       "      <td>0.66</td>\n",
       "      <td>2.79</td>\n",
       "      <td>0.33</td>\n",
       "      <td>50.62</td>\n",
       "      <td>0.59</td>\n",
       "    </tr>\n",
       "    <tr>\n",
       "      <th>154</th>\n",
       "      <td>Virgo</td>\n",
       "      <td>Star</td>\n",
       "      <td>14</td>\n",
       "      <td>76.800</td>\n",
       "      <td>19.60</td>\n",
       "      <td>8.79</td>\n",
       "      <td>9.67</td>\n",
       "      <td>39.18</td>\n",
       "      <td>12.00</td>\n",
       "    </tr>\n",
       "    <tr>\n",
       "      <th>155</th>\n",
       "      <td>Spirit</td>\n",
       "      <td>Windstar</td>\n",
       "      <td>25</td>\n",
       "      <td>5.350</td>\n",
       "      <td>1.58</td>\n",
       "      <td>4.40</td>\n",
       "      <td>0.74</td>\n",
       "      <td>33.86</td>\n",
       "      <td>0.88</td>\n",
       "    </tr>\n",
       "    <tr>\n",
       "      <th>156</th>\n",
       "      <td>Star</td>\n",
       "      <td>Windstar</td>\n",
       "      <td>27</td>\n",
       "      <td>5.350</td>\n",
       "      <td>1.67</td>\n",
       "      <td>4.40</td>\n",
       "      <td>0.74</td>\n",
       "      <td>32.04</td>\n",
       "      <td>0.88</td>\n",
       "    </tr>\n",
       "    <tr>\n",
       "      <th>157</th>\n",
       "      <td>Surf</td>\n",
       "      <td>Windstar</td>\n",
       "      <td>23</td>\n",
       "      <td>14.745</td>\n",
       "      <td>3.08</td>\n",
       "      <td>6.17</td>\n",
       "      <td>1.56</td>\n",
       "      <td>47.87</td>\n",
       "      <td>1.80</td>\n",
       "    </tr>\n",
       "  </tbody>\n",
       "</table>\n",
       "</div>"
      ],
      "text/plain": [
       "    Ship_name Cruise_line  Age  Tonnage  passengers  length  cabins  \\\n",
       "153    Taurus        Star   22    3.341        0.66    2.79    0.33   \n",
       "154     Virgo        Star   14   76.800       19.60    8.79    9.67   \n",
       "155    Spirit    Windstar   25    5.350        1.58    4.40    0.74   \n",
       "156      Star    Windstar   27    5.350        1.67    4.40    0.74   \n",
       "157      Surf    Windstar   23   14.745        3.08    6.17    1.56   \n",
       "\n",
       "     passenger_density   crew  \n",
       "153              50.62   0.59  \n",
       "154              39.18  12.00  \n",
       "155              33.86   0.88  \n",
       "156              32.04   0.88  \n",
       "157              47.87   1.80  "
      ]
     },
     "execution_count": 6,
     "metadata": {},
     "output_type": "execute_result"
    }
   ],
   "source": [
    "df.tail()"
   ]
  },
  {
   "cell_type": "markdown",
   "id": "d5cb3215",
   "metadata": {},
   "source": [
    "#### Random sampling"
   ]
  },
  {
   "cell_type": "code",
   "execution_count": 7,
   "id": "c4b4a9c9",
   "metadata": {},
   "outputs": [
    {
     "data": {
      "text/html": [
       "<div>\n",
       "<style scoped>\n",
       "    .dataframe tbody tr th:only-of-type {\n",
       "        vertical-align: middle;\n",
       "    }\n",
       "\n",
       "    .dataframe tbody tr th {\n",
       "        vertical-align: top;\n",
       "    }\n",
       "\n",
       "    .dataframe thead th {\n",
       "        text-align: right;\n",
       "    }\n",
       "</style>\n",
       "<table border=\"1\" class=\"dataframe\">\n",
       "  <thead>\n",
       "    <tr style=\"text-align: right;\">\n",
       "      <th></th>\n",
       "      <th>Ship_name</th>\n",
       "      <th>Cruise_line</th>\n",
       "      <th>Age</th>\n",
       "      <th>Tonnage</th>\n",
       "      <th>passengers</th>\n",
       "      <th>length</th>\n",
       "      <th>cabins</th>\n",
       "      <th>passenger_density</th>\n",
       "      <th>crew</th>\n",
       "    </tr>\n",
       "  </thead>\n",
       "  <tbody>\n",
       "    <tr>\n",
       "      <th>87</th>\n",
       "      <td>Insignia</td>\n",
       "      <td>Oceania</td>\n",
       "      <td>15</td>\n",
       "      <td>30.277</td>\n",
       "      <td>6.84</td>\n",
       "      <td>5.94</td>\n",
       "      <td>3.42</td>\n",
       "      <td>44.26</td>\n",
       "      <td>4.00</td>\n",
       "    </tr>\n",
       "    <tr>\n",
       "      <th>35</th>\n",
       "      <td>Atlantica</td>\n",
       "      <td>Costa</td>\n",
       "      <td>13</td>\n",
       "      <td>85.619</td>\n",
       "      <td>21.14</td>\n",
       "      <td>9.57</td>\n",
       "      <td>10.56</td>\n",
       "      <td>40.50</td>\n",
       "      <td>9.20</td>\n",
       "    </tr>\n",
       "    <tr>\n",
       "      <th>149</th>\n",
       "      <td>Aries</td>\n",
       "      <td>Star</td>\n",
       "      <td>22</td>\n",
       "      <td>3.341</td>\n",
       "      <td>0.66</td>\n",
       "      <td>2.80</td>\n",
       "      <td>0.33</td>\n",
       "      <td>50.62</td>\n",
       "      <td>0.59</td>\n",
       "    </tr>\n",
       "    <tr>\n",
       "      <th>70</th>\n",
       "      <td>Musica</td>\n",
       "      <td>MSC</td>\n",
       "      <td>7</td>\n",
       "      <td>89.600</td>\n",
       "      <td>25.50</td>\n",
       "      <td>9.61</td>\n",
       "      <td>12.75</td>\n",
       "      <td>35.14</td>\n",
       "      <td>9.87</td>\n",
       "    </tr>\n",
       "    <tr>\n",
       "      <th>73</th>\n",
       "      <td>Sinfonia</td>\n",
       "      <td>MSC</td>\n",
       "      <td>11</td>\n",
       "      <td>58.600</td>\n",
       "      <td>15.66</td>\n",
       "      <td>8.23</td>\n",
       "      <td>7.83</td>\n",
       "      <td>37.42</td>\n",
       "      <td>7.60</td>\n",
       "    </tr>\n",
       "  </tbody>\n",
       "</table>\n",
       "</div>"
      ],
      "text/plain": [
       "     Ship_name Cruise_line  Age  Tonnage  passengers  length  cabins  \\\n",
       "87    Insignia     Oceania   15   30.277        6.84    5.94    3.42   \n",
       "35   Atlantica       Costa   13   85.619       21.14    9.57   10.56   \n",
       "149      Aries        Star   22    3.341        0.66    2.80    0.33   \n",
       "70      Musica         MSC    7   89.600       25.50    9.61   12.75   \n",
       "73    Sinfonia         MSC   11   58.600       15.66    8.23    7.83   \n",
       "\n",
       "     passenger_density  crew  \n",
       "87               44.26  4.00  \n",
       "35               40.50  9.20  \n",
       "149              50.62  0.59  \n",
       "70               35.14  9.87  \n",
       "73               37.42  7.60  "
      ]
     },
     "execution_count": 7,
     "metadata": {},
     "output_type": "execute_result"
    }
   ],
   "source": [
    "df.sample(5)"
   ]
  },
  {
   "cell_type": "markdown",
   "id": "c720b056",
   "metadata": {},
   "source": [
    "### Checking how many rows and how many columns present in my dataset"
   ]
  },
  {
   "cell_type": "code",
   "execution_count": 8,
   "id": "115d5fdd",
   "metadata": {},
   "outputs": [
    {
     "data": {
      "text/plain": [
       "(158, 9)"
      ]
     },
     "execution_count": 8,
     "metadata": {},
     "output_type": "execute_result"
    }
   ],
   "source": [
    "df.shape"
   ]
  },
  {
   "cell_type": "code",
   "execution_count": 9,
   "id": "0f09f19c",
   "metadata": {},
   "outputs": [
    {
     "name": "stdout",
     "output_type": "stream",
     "text": [
      "<class 'pandas.core.frame.DataFrame'>\n",
      "RangeIndex: 158 entries, 0 to 157\n",
      "Data columns (total 9 columns):\n",
      " #   Column             Non-Null Count  Dtype  \n",
      "---  ------             --------------  -----  \n",
      " 0   Ship_name          158 non-null    object \n",
      " 1   Cruise_line        158 non-null    object \n",
      " 2   Age                158 non-null    int64  \n",
      " 3   Tonnage            158 non-null    float64\n",
      " 4   passengers         158 non-null    float64\n",
      " 5   length             158 non-null    float64\n",
      " 6   cabins             158 non-null    float64\n",
      " 7   passenger_density  158 non-null    float64\n",
      " 8   crew               158 non-null    float64\n",
      "dtypes: float64(6), int64(1), object(2)\n",
      "memory usage: 11.2+ KB\n"
     ]
    }
   ],
   "source": [
    "df.info()"
   ]
  },
  {
   "cell_type": "markdown",
   "id": "afdce4fc",
   "metadata": {},
   "source": [
    "###  Calculate basic statistics of the data"
   ]
  },
  {
   "cell_type": "code",
   "execution_count": 10,
   "id": "e6aa80e2",
   "metadata": {},
   "outputs": [
    {
     "data": {
      "text/html": [
       "<div>\n",
       "<style scoped>\n",
       "    .dataframe tbody tr th:only-of-type {\n",
       "        vertical-align: middle;\n",
       "    }\n",
       "\n",
       "    .dataframe tbody tr th {\n",
       "        vertical-align: top;\n",
       "    }\n",
       "\n",
       "    .dataframe thead th {\n",
       "        text-align: right;\n",
       "    }\n",
       "</style>\n",
       "<table border=\"1\" class=\"dataframe\">\n",
       "  <thead>\n",
       "    <tr style=\"text-align: right;\">\n",
       "      <th></th>\n",
       "      <th>Age</th>\n",
       "      <th>Tonnage</th>\n",
       "      <th>passengers</th>\n",
       "      <th>length</th>\n",
       "      <th>cabins</th>\n",
       "      <th>passenger_density</th>\n",
       "      <th>crew</th>\n",
       "    </tr>\n",
       "  </thead>\n",
       "  <tbody>\n",
       "    <tr>\n",
       "      <th>count</th>\n",
       "      <td>158.000000</td>\n",
       "      <td>158.000000</td>\n",
       "      <td>158.000000</td>\n",
       "      <td>158.000000</td>\n",
       "      <td>158.000000</td>\n",
       "      <td>158.000000</td>\n",
       "      <td>158.000000</td>\n",
       "    </tr>\n",
       "    <tr>\n",
       "      <th>mean</th>\n",
       "      <td>15.689873</td>\n",
       "      <td>71.284671</td>\n",
       "      <td>18.457405</td>\n",
       "      <td>8.130633</td>\n",
       "      <td>8.830000</td>\n",
       "      <td>39.900949</td>\n",
       "      <td>7.794177</td>\n",
       "    </tr>\n",
       "    <tr>\n",
       "      <th>std</th>\n",
       "      <td>7.615691</td>\n",
       "      <td>37.229540</td>\n",
       "      <td>9.677095</td>\n",
       "      <td>1.793474</td>\n",
       "      <td>4.471417</td>\n",
       "      <td>8.639217</td>\n",
       "      <td>3.503487</td>\n",
       "    </tr>\n",
       "    <tr>\n",
       "      <th>min</th>\n",
       "      <td>4.000000</td>\n",
       "      <td>2.329000</td>\n",
       "      <td>0.660000</td>\n",
       "      <td>2.790000</td>\n",
       "      <td>0.330000</td>\n",
       "      <td>17.700000</td>\n",
       "      <td>0.590000</td>\n",
       "    </tr>\n",
       "    <tr>\n",
       "      <th>25%</th>\n",
       "      <td>10.000000</td>\n",
       "      <td>46.013000</td>\n",
       "      <td>12.535000</td>\n",
       "      <td>7.100000</td>\n",
       "      <td>6.132500</td>\n",
       "      <td>34.570000</td>\n",
       "      <td>5.480000</td>\n",
       "    </tr>\n",
       "    <tr>\n",
       "      <th>50%</th>\n",
       "      <td>14.000000</td>\n",
       "      <td>71.899000</td>\n",
       "      <td>19.500000</td>\n",
       "      <td>8.555000</td>\n",
       "      <td>9.570000</td>\n",
       "      <td>39.085000</td>\n",
       "      <td>8.150000</td>\n",
       "    </tr>\n",
       "    <tr>\n",
       "      <th>75%</th>\n",
       "      <td>20.000000</td>\n",
       "      <td>90.772500</td>\n",
       "      <td>24.845000</td>\n",
       "      <td>9.510000</td>\n",
       "      <td>10.885000</td>\n",
       "      <td>44.185000</td>\n",
       "      <td>9.990000</td>\n",
       "    </tr>\n",
       "    <tr>\n",
       "      <th>max</th>\n",
       "      <td>48.000000</td>\n",
       "      <td>220.000000</td>\n",
       "      <td>54.000000</td>\n",
       "      <td>11.820000</td>\n",
       "      <td>27.000000</td>\n",
       "      <td>71.430000</td>\n",
       "      <td>21.000000</td>\n",
       "    </tr>\n",
       "  </tbody>\n",
       "</table>\n",
       "</div>"
      ],
      "text/plain": [
       "              Age     Tonnage  passengers      length      cabins  \\\n",
       "count  158.000000  158.000000  158.000000  158.000000  158.000000   \n",
       "mean    15.689873   71.284671   18.457405    8.130633    8.830000   \n",
       "std      7.615691   37.229540    9.677095    1.793474    4.471417   \n",
       "min      4.000000    2.329000    0.660000    2.790000    0.330000   \n",
       "25%     10.000000   46.013000   12.535000    7.100000    6.132500   \n",
       "50%     14.000000   71.899000   19.500000    8.555000    9.570000   \n",
       "75%     20.000000   90.772500   24.845000    9.510000   10.885000   \n",
       "max     48.000000  220.000000   54.000000   11.820000   27.000000   \n",
       "\n",
       "       passenger_density        crew  \n",
       "count         158.000000  158.000000  \n",
       "mean           39.900949    7.794177  \n",
       "std             8.639217    3.503487  \n",
       "min            17.700000    0.590000  \n",
       "25%            34.570000    5.480000  \n",
       "50%            39.085000    8.150000  \n",
       "75%            44.185000    9.990000  \n",
       "max            71.430000   21.000000  "
      ]
     },
     "execution_count": 10,
     "metadata": {},
     "output_type": "execute_result"
    }
   ],
   "source": [
    "df.describe()"
   ]
  },
  {
   "cell_type": "markdown",
   "id": "da8c1499",
   "metadata": {},
   "source": [
    "### Checking the data type of each column"
   ]
  },
  {
   "cell_type": "code",
   "execution_count": 11,
   "id": "b2bf6350",
   "metadata": {},
   "outputs": [
    {
     "data": {
      "text/plain": [
       "Ship_name             object\n",
       "Cruise_line           object\n",
       "Age                    int64\n",
       "Tonnage              float64\n",
       "passengers           float64\n",
       "length               float64\n",
       "cabins               float64\n",
       "passenger_density    float64\n",
       "crew                 float64\n",
       "dtype: object"
      ]
     },
     "execution_count": 11,
     "metadata": {},
     "output_type": "execute_result"
    }
   ],
   "source": [
    "df.dtypes"
   ]
  },
  {
   "cell_type": "markdown",
   "id": "d3311ccd",
   "metadata": {},
   "source": [
    "### counts of unique values present in Ship_name attribute"
   ]
  },
  {
   "cell_type": "code",
   "execution_count": 12,
   "id": "cfa34b3b",
   "metadata": {},
   "outputs": [
    {
     "data": {
      "text/plain": [
       "Spirit          4\n",
       "Legend          3\n",
       "Star            3\n",
       "Sea             2\n",
       "Sun             2\n",
       "               ..\n",
       "Quest           1\n",
       "Vision          1\n",
       "Victory         1\n",
       "Mediterranea    1\n",
       "Artemis         1\n",
       "Name: Ship_name, Length: 138, dtype: int64"
      ]
     },
     "execution_count": 12,
     "metadata": {},
     "output_type": "execute_result"
    }
   ],
   "source": [
    "df['Ship_name'].value_counts()"
   ]
  },
  {
   "cell_type": "code",
   "execution_count": 13,
   "id": "051502b1",
   "metadata": {},
   "outputs": [
    {
     "data": {
      "text/plain": [
       "array(['Journey', 'Quest', 'Celebration', 'Conquest', 'Destiny',\n",
       "       'Ecstasy', 'Elation', 'Fantasy', 'Fascination', 'Freedom', 'Glory',\n",
       "       'Holiday', 'Imagination', 'Inspiration', 'Legend', 'Liberty*',\n",
       "       'Miracle', 'Paradise', 'Pride', 'Sensation', 'Spirit', 'Triumph',\n",
       "       'Valor', 'Victory', 'Century', 'Constellation', 'Galaxy',\n",
       "       'Infinity', 'Mercury', 'Millenium', 'Solstice', 'Summit',\n",
       "       'Xpedition', 'Zenith', 'Allegra', 'Atlantica', 'Classica',\n",
       "       'Europa', 'Fortuna', 'Magica', 'Marina', 'Mediterranea',\n",
       "       'Romantica', 'Serena', 'Victoria', 'Serenity', 'Symphony',\n",
       "       'QueenElizabethII', 'QueenMary2', 'QueenVictoria', 'Magic',\n",
       "       'Wonder', 'Amsterdam', 'Eurodam', 'Maasdam', 'Noordam',\n",
       "       'Oosterdam', 'Prinsendam', 'Rotterdam', 'Ryndam', 'Statendam',\n",
       "       'Veendam', 'Volendam', 'Westerdam', 'Zaandam', 'Zuiderdam',\n",
       "       'Armonia', 'Fantasia', 'Lirica', 'Melody', 'Musica', 'Opera',\n",
       "       'Rhapsody', 'Sinfonia', 'Crown', 'Dawn', 'Dream', 'Gem', 'Jewel',\n",
       "       'Majesty', 'PrideofAloha', 'PrideofAmerica', 'Sea', 'Star', 'Sun',\n",
       "       'Wind', 'Insignia', 'Nautica', 'Regatta', 'MarcoPolo', 'Arcadia',\n",
       "       'Artemis', 'Aurora', 'Oceana', 'Oriana', 'Ventura', 'Caribbean',\n",
       "       'Coral', 'Diamond', 'Emerald', 'Golden', 'Grand', 'Island',\n",
       "       'Pacific', 'Regal', 'Royal', 'Saphire', 'Tahitian', 'ExplorerII',\n",
       "       'Mariner', 'Navigator', 'PaulGauguin', 'Voyager', 'Adventure',\n",
       "       'Brilliance', 'Empress', 'Enchantment', 'Explorer', 'Grandeur',\n",
       "       'Independence', 'Liberty', 'Monarch', 'Oasis', 'Radiance',\n",
       "       'Serenade', 'Sovreign', 'Splendour', 'Vision', 'Cloud', 'Shadow',\n",
       "       'Whisper', 'Aries', 'Gemini', 'Libra', 'Pisces', 'Taurus', 'Virgo',\n",
       "       'Surf'], dtype=object)"
      ]
     },
     "execution_count": 13,
     "metadata": {},
     "output_type": "execute_result"
    }
   ],
   "source": [
    "df['Ship_name'].unique()"
   ]
  },
  {
   "cell_type": "code",
   "execution_count": 14,
   "id": "17279c47",
   "metadata": {},
   "outputs": [
    {
     "data": {
      "text/plain": [
       "138"
      ]
     },
     "execution_count": 14,
     "metadata": {},
     "output_type": "execute_result"
    }
   ],
   "source": [
    "df['Ship_name'].nunique()"
   ]
  },
  {
   "cell_type": "markdown",
   "id": "d7a0cc38",
   "metadata": {},
   "source": [
    "### counts of unique values present in Cruise_line attribute"
   ]
  },
  {
   "cell_type": "code",
   "execution_count": 15,
   "id": "b86e1995",
   "metadata": {},
   "outputs": [
    {
     "data": {
      "text/plain": [
       "Royal_Caribbean      23\n",
       "Carnival             22\n",
       "Princess             17\n",
       "Holland_American     14\n",
       "Norwegian            13\n",
       "Costa                11\n",
       "Celebrity            10\n",
       "MSC                   8\n",
       "P&O                   6\n",
       "Star                  6\n",
       "Regent_Seven_Seas     5\n",
       "Silversea             4\n",
       "Oceania               3\n",
       "Cunard                3\n",
       "Windstar              3\n",
       "Seabourn              3\n",
       "Disney                2\n",
       "Azamara               2\n",
       "Crystal               2\n",
       "Orient                1\n",
       "Name: Cruise_line, dtype: int64"
      ]
     },
     "execution_count": 15,
     "metadata": {},
     "output_type": "execute_result"
    }
   ],
   "source": [
    "df['Cruise_line'].value_counts()"
   ]
  },
  {
   "cell_type": "markdown",
   "id": "e122361d",
   "metadata": {},
   "source": [
    "### Analyzing duplicate values"
   ]
  },
  {
   "cell_type": "code",
   "execution_count": 16,
   "id": "2e9a9231",
   "metadata": {},
   "outputs": [
    {
     "data": {
      "text/plain": [
       "0"
      ]
     },
     "execution_count": 16,
     "metadata": {},
     "output_type": "execute_result"
    }
   ],
   "source": [
    "df.duplicated().sum()"
   ]
  },
  {
   "cell_type": "markdown",
   "id": "87f205c8",
   "metadata": {},
   "source": [
    "### Checking Any missing values present in the data set or not"
   ]
  },
  {
   "cell_type": "code",
   "execution_count": 17,
   "id": "354a4095",
   "metadata": {},
   "outputs": [
    {
     "data": {
      "text/plain": [
       "Ship_name            0\n",
       "Cruise_line          0\n",
       "Age                  0\n",
       "Tonnage              0\n",
       "passengers           0\n",
       "length               0\n",
       "cabins               0\n",
       "passenger_density    0\n",
       "crew                 0\n",
       "dtype: int64"
      ]
     },
     "execution_count": 17,
     "metadata": {},
     "output_type": "execute_result"
    }
   ],
   "source": [
    "df.isnull().sum()"
   ]
  },
  {
   "cell_type": "code",
   "execution_count": 18,
   "id": "fd20e41a",
   "metadata": {},
   "outputs": [
    {
     "data": {
      "text/plain": [
       "Index(['Ship_name', 'Cruise_line', 'Age', 'Tonnage', 'passengers', 'length',\n",
       "       'cabins', 'passenger_density', 'crew'],\n",
       "      dtype='object')"
      ]
     },
     "execution_count": 18,
     "metadata": {},
     "output_type": "execute_result"
    }
   ],
   "source": [
    "df.columns"
   ]
  },
  {
   "cell_type": "markdown",
   "id": "3847cd1f",
   "metadata": {},
   "source": [
    "### Data visualization"
   ]
  },
  {
   "cell_type": "code",
   "execution_count": 19,
   "id": "e7b59455",
   "metadata": {},
   "outputs": [
    {
     "data": {
      "image/png": "[encoded data removed]",
      "text/plain": [
       "<Figure size 864x936 with 9 Axes>"
      ]
     },
     "metadata": {
      "needs_background": "light"
     },
     "output_type": "display_data"
    }
   ],
   "source": [
    "df.hist(bins=10,figsize=(12,13))\n",
    "plt.show()"
   ]
  },
  {
   "cell_type": "code",
   "execution_count": 20,
   "id": "8c56cd42",
   "metadata": {},
   "outputs": [
    {
     "data": {
      "image/png": "[encoded data removed]",
      "text/plain": [
       "<Figure size 1440x1440 with 49 Axes>"
      ]
     },
     "metadata": {
      "needs_background": "light"
     },
     "output_type": "display_data"
    }
   ],
   "source": [
    "from pandas.plotting import scatter_matrix\n",
    "scatter_matrix(df,figsize=(20,20));"
   ]
  },
  {
   "cell_type": "markdown",
   "id": "a1edaff9",
   "metadata": {},
   "source": [
    "### Correlation Analysis"
   ]
  },
  {
   "cell_type": "code",
   "execution_count": 21,
   "id": "565858f1",
   "metadata": {},
   "outputs": [
    {
     "data": {
      "image/png": "[encoded data removed]",
      "text/plain": [
       "<Figure size 720x720 with 2 Axes>"
      ]
     },
     "metadata": {
      "needs_background": "light"
     },
     "output_type": "display_data"
    }
   ],
   "source": [
    "corrmat=df.corr()\n",
    "top_corr_features=corrmat.index\n",
    "plt.figure(figsize=(10,10))\n",
    "\n",
    "#Heat Map\n",
    "\n",
    "g=sns.heatmap(df[top_corr_features].corr(),annot=True,cmap='PuOr')"
   ]
  },
  {
   "cell_type": "markdown",
   "id": "1229d6fe",
   "metadata": {},
   "source": [
    "##### We observe that variables are on different scales, for sample the Age variable ranges from about 4 years to 48 years, while the Tonnage variable ranges from 2 to 220. It is therefore important that when a regression model is built using these variables, variables be brought to same scale either by standardizing or normalizing the data.\n",
    "\n",
    "##### From the covariance matrix plot above We also observe that the target variable 'crew' correlates well with 4 predictor variables - 'Tonnage', 'passengers', 'length', and 'cabins'."
   ]
  },
  {
   "cell_type": "code",
   "execution_count": 22,
   "id": "b9fc9f5d",
   "metadata": {},
   "outputs": [],
   "source": [
    "df=df.drop(['passenger_density','Ship_name'],axis=1)"
   ]
  },
  {
   "cell_type": "code",
   "execution_count": 23,
   "id": "a799ea1c",
   "metadata": {},
   "outputs": [
    {
     "data": {
      "text/html": [
       "<div>\n",
       "<style scoped>\n",
       "    .dataframe tbody tr th:only-of-type {\n",
       "        vertical-align: middle;\n",
       "    }\n",
       "\n",
       "    .dataframe tbody tr th {\n",
       "        vertical-align: top;\n",
       "    }\n",
       "\n",
       "    .dataframe thead th {\n",
       "        text-align: right;\n",
       "    }\n",
       "</style>\n",
       "<table border=\"1\" class=\"dataframe\">\n",
       "  <thead>\n",
       "    <tr style=\"text-align: right;\">\n",
       "      <th></th>\n",
       "      <th>Cruise_line</th>\n",
       "      <th>Age</th>\n",
       "      <th>Tonnage</th>\n",
       "      <th>passengers</th>\n",
       "      <th>length</th>\n",
       "      <th>cabins</th>\n",
       "      <th>crew</th>\n",
       "    </tr>\n",
       "  </thead>\n",
       "  <tbody>\n",
       "    <tr>\n",
       "      <th>0</th>\n",
       "      <td>Azamara</td>\n",
       "      <td>6</td>\n",
       "      <td>30.277</td>\n",
       "      <td>6.94</td>\n",
       "      <td>5.94</td>\n",
       "      <td>3.55</td>\n",
       "      <td>3.55</td>\n",
       "    </tr>\n",
       "    <tr>\n",
       "      <th>1</th>\n",
       "      <td>Azamara</td>\n",
       "      <td>6</td>\n",
       "      <td>30.277</td>\n",
       "      <td>6.94</td>\n",
       "      <td>5.94</td>\n",
       "      <td>3.55</td>\n",
       "      <td>3.55</td>\n",
       "    </tr>\n",
       "    <tr>\n",
       "      <th>2</th>\n",
       "      <td>Carnival</td>\n",
       "      <td>26</td>\n",
       "      <td>47.262</td>\n",
       "      <td>14.86</td>\n",
       "      <td>7.22</td>\n",
       "      <td>7.43</td>\n",
       "      <td>6.70</td>\n",
       "    </tr>\n",
       "    <tr>\n",
       "      <th>3</th>\n",
       "      <td>Carnival</td>\n",
       "      <td>11</td>\n",
       "      <td>110.000</td>\n",
       "      <td>29.74</td>\n",
       "      <td>9.53</td>\n",
       "      <td>14.88</td>\n",
       "      <td>19.10</td>\n",
       "    </tr>\n",
       "    <tr>\n",
       "      <th>4</th>\n",
       "      <td>Carnival</td>\n",
       "      <td>17</td>\n",
       "      <td>101.353</td>\n",
       "      <td>26.42</td>\n",
       "      <td>8.92</td>\n",
       "      <td>13.21</td>\n",
       "      <td>10.00</td>\n",
       "    </tr>\n",
       "  </tbody>\n",
       "</table>\n",
       "</div>"
      ],
      "text/plain": [
       "  Cruise_line  Age  Tonnage  passengers  length  cabins   crew\n",
       "0     Azamara    6   30.277        6.94    5.94    3.55   3.55\n",
       "1     Azamara    6   30.277        6.94    5.94    3.55   3.55\n",
       "2    Carnival   26   47.262       14.86    7.22    7.43   6.70\n",
       "3    Carnival   11  110.000       29.74    9.53   14.88  19.10\n",
       "4    Carnival   17  101.353       26.42    8.92   13.21  10.00"
      ]
     },
     "execution_count": 23,
     "metadata": {},
     "output_type": "execute_result"
    }
   ],
   "source": [
    "df.head()"
   ]
  },
  {
   "cell_type": "markdown",
   "id": "813c4acd",
   "metadata": {},
   "source": [
    "### Handling Categorical Data "
   ]
  },
  {
   "cell_type": "code",
   "execution_count": 24,
   "id": "c3d03ef8",
   "metadata": {},
   "outputs": [
    {
     "data": {
      "text/plain": [
       "Royal_Caribbean      23\n",
       "Carnival             22\n",
       "Princess             17\n",
       "Holland_American     14\n",
       "Norwegian            13\n",
       "Costa                11\n",
       "Celebrity            10\n",
       "MSC                   8\n",
       "P&O                   6\n",
       "Star                  6\n",
       "Regent_Seven_Seas     5\n",
       "Silversea             4\n",
       "Oceania               3\n",
       "Cunard                3\n",
       "Windstar              3\n",
       "Seabourn              3\n",
       "Disney                2\n",
       "Azamara               2\n",
       "Crystal               2\n",
       "Orient                1\n",
       "Name: Cruise_line, dtype: int64"
      ]
     },
     "execution_count": 24,
     "metadata": {},
     "output_type": "execute_result"
    }
   ],
   "source": [
    "df['Cruise_line'].value_counts()"
   ]
  },
  {
   "cell_type": "code",
   "execution_count": 25,
   "id": "02e08d7b",
   "metadata": {},
   "outputs": [],
   "source": [
    "counts=df['Cruise_line'].value_counts()"
   ]
  },
  {
   "cell_type": "code",
   "execution_count": 26,
   "id": "51f395cb",
   "metadata": {},
   "outputs": [],
   "source": [
    "df['Cruise_line'].nunique()\n",
    "threshold=6"
   ]
  },
  {
   "cell_type": "code",
   "execution_count": 27,
   "id": "cc1e259e",
   "metadata": {},
   "outputs": [],
   "source": [
    "repl=counts[counts <= threshold].index"
   ]
  },
  {
   "cell_type": "code",
   "execution_count": 28,
   "id": "dbddda70",
   "metadata": {},
   "outputs": [
    {
     "data": {
      "text/html": [
       "<div>\n",
       "<style scoped>\n",
       "    .dataframe tbody tr th:only-of-type {\n",
       "        vertical-align: middle;\n",
       "    }\n",
       "\n",
       "    .dataframe tbody tr th {\n",
       "        vertical-align: top;\n",
       "    }\n",
       "\n",
       "    .dataframe thead th {\n",
       "        text-align: right;\n",
       "    }\n",
       "</style>\n",
       "<table border=\"1\" class=\"dataframe\">\n",
       "  <thead>\n",
       "    <tr style=\"text-align: right;\">\n",
       "      <th></th>\n",
       "      <th>Celebrity</th>\n",
       "      <th>Costa</th>\n",
       "      <th>Holland_American</th>\n",
       "      <th>MSC</th>\n",
       "      <th>Norwegian</th>\n",
       "      <th>Princess</th>\n",
       "      <th>Royal_Caribbean</th>\n",
       "      <th>uncommon</th>\n",
       "    </tr>\n",
       "  </thead>\n",
       "  <tbody>\n",
       "    <tr>\n",
       "      <th>0</th>\n",
       "      <td>0</td>\n",
       "      <td>0</td>\n",
       "      <td>0</td>\n",
       "      <td>0</td>\n",
       "      <td>0</td>\n",
       "      <td>0</td>\n",
       "      <td>0</td>\n",
       "      <td>1</td>\n",
       "    </tr>\n",
       "    <tr>\n",
       "      <th>1</th>\n",
       "      <td>0</td>\n",
       "      <td>0</td>\n",
       "      <td>0</td>\n",
       "      <td>0</td>\n",
       "      <td>0</td>\n",
       "      <td>0</td>\n",
       "      <td>0</td>\n",
       "      <td>1</td>\n",
       "    </tr>\n",
       "    <tr>\n",
       "      <th>2</th>\n",
       "      <td>0</td>\n",
       "      <td>0</td>\n",
       "      <td>0</td>\n",
       "      <td>0</td>\n",
       "      <td>0</td>\n",
       "      <td>0</td>\n",
       "      <td>0</td>\n",
       "      <td>0</td>\n",
       "    </tr>\n",
       "    <tr>\n",
       "      <th>3</th>\n",
       "      <td>0</td>\n",
       "      <td>0</td>\n",
       "      <td>0</td>\n",
       "      <td>0</td>\n",
       "      <td>0</td>\n",
       "      <td>0</td>\n",
       "      <td>0</td>\n",
       "      <td>0</td>\n",
       "    </tr>\n",
       "    <tr>\n",
       "      <th>4</th>\n",
       "      <td>0</td>\n",
       "      <td>0</td>\n",
       "      <td>0</td>\n",
       "      <td>0</td>\n",
       "      <td>0</td>\n",
       "      <td>0</td>\n",
       "      <td>0</td>\n",
       "      <td>0</td>\n",
       "    </tr>\n",
       "    <tr>\n",
       "      <th>...</th>\n",
       "      <td>...</td>\n",
       "      <td>...</td>\n",
       "      <td>...</td>\n",
       "      <td>...</td>\n",
       "      <td>...</td>\n",
       "      <td>...</td>\n",
       "      <td>...</td>\n",
       "      <td>...</td>\n",
       "    </tr>\n",
       "    <tr>\n",
       "      <th>153</th>\n",
       "      <td>0</td>\n",
       "      <td>0</td>\n",
       "      <td>0</td>\n",
       "      <td>0</td>\n",
       "      <td>0</td>\n",
       "      <td>0</td>\n",
       "      <td>0</td>\n",
       "      <td>1</td>\n",
       "    </tr>\n",
       "    <tr>\n",
       "      <th>154</th>\n",
       "      <td>0</td>\n",
       "      <td>0</td>\n",
       "      <td>0</td>\n",
       "      <td>0</td>\n",
       "      <td>0</td>\n",
       "      <td>0</td>\n",
       "      <td>0</td>\n",
       "      <td>1</td>\n",
       "    </tr>\n",
       "    <tr>\n",
       "      <th>155</th>\n",
       "      <td>0</td>\n",
       "      <td>0</td>\n",
       "      <td>0</td>\n",
       "      <td>0</td>\n",
       "      <td>0</td>\n",
       "      <td>0</td>\n",
       "      <td>0</td>\n",
       "      <td>1</td>\n",
       "    </tr>\n",
       "    <tr>\n",
       "      <th>156</th>\n",
       "      <td>0</td>\n",
       "      <td>0</td>\n",
       "      <td>0</td>\n",
       "      <td>0</td>\n",
       "      <td>0</td>\n",
       "      <td>0</td>\n",
       "      <td>0</td>\n",
       "      <td>1</td>\n",
       "    </tr>\n",
       "    <tr>\n",
       "      <th>157</th>\n",
       "      <td>0</td>\n",
       "      <td>0</td>\n",
       "      <td>0</td>\n",
       "      <td>0</td>\n",
       "      <td>0</td>\n",
       "      <td>0</td>\n",
       "      <td>0</td>\n",
       "      <td>1</td>\n",
       "    </tr>\n",
       "  </tbody>\n",
       "</table>\n",
       "<p>158 rows × 8 columns</p>\n",
       "</div>"
      ],
      "text/plain": [
       "     Celebrity  Costa  Holland_American  MSC  Norwegian  Princess  \\\n",
       "0            0      0                 0    0          0         0   \n",
       "1            0      0                 0    0          0         0   \n",
       "2            0      0                 0    0          0         0   \n",
       "3            0      0                 0    0          0         0   \n",
       "4            0      0                 0    0          0         0   \n",
       "..         ...    ...               ...  ...        ...       ...   \n",
       "153          0      0                 0    0          0         0   \n",
       "154          0      0                 0    0          0         0   \n",
       "155          0      0                 0    0          0         0   \n",
       "156          0      0                 0    0          0         0   \n",
       "157          0      0                 0    0          0         0   \n",
       "\n",
       "     Royal_Caribbean  uncommon  \n",
       "0                  0         1  \n",
       "1                  0         1  \n",
       "2                  0         0  \n",
       "3                  0         0  \n",
       "4                  0         0  \n",
       "..               ...       ...  \n",
       "153                0         1  \n",
       "154                0         1  \n",
       "155                0         1  \n",
       "156                0         1  \n",
       "157                0         1  \n",
       "\n",
       "[158 rows x 8 columns]"
      ]
     },
     "execution_count": 28,
     "metadata": {},
     "output_type": "execute_result"
    }
   ],
   "source": [
    "dummies=pd.get_dummies(df['Cruise_line'].replace(repl,'uncommon'),drop_first=True)\n",
    "dummies"
   ]
  },
  {
   "cell_type": "code",
   "execution_count": 29,
   "id": "f1110c7c",
   "metadata": {},
   "outputs": [
    {
     "data": {
      "text/html": [
       "<div>\n",
       "<style scoped>\n",
       "    .dataframe tbody tr th:only-of-type {\n",
       "        vertical-align: middle;\n",
       "    }\n",
       "\n",
       "    .dataframe tbody tr th {\n",
       "        vertical-align: top;\n",
       "    }\n",
       "\n",
       "    .dataframe thead th {\n",
       "        text-align: right;\n",
       "    }\n",
       "</style>\n",
       "<table border=\"1\" class=\"dataframe\">\n",
       "  <thead>\n",
       "    <tr style=\"text-align: right;\">\n",
       "      <th></th>\n",
       "      <th>Cruise_line</th>\n",
       "      <th>Age</th>\n",
       "      <th>Tonnage</th>\n",
       "      <th>passengers</th>\n",
       "      <th>length</th>\n",
       "      <th>cabins</th>\n",
       "      <th>crew</th>\n",
       "      <th>Celebrity</th>\n",
       "      <th>Costa</th>\n",
       "      <th>Holland_American</th>\n",
       "      <th>MSC</th>\n",
       "      <th>Norwegian</th>\n",
       "      <th>Princess</th>\n",
       "      <th>Royal_Caribbean</th>\n",
       "      <th>uncommon</th>\n",
       "    </tr>\n",
       "  </thead>\n",
       "  <tbody>\n",
       "    <tr>\n",
       "      <th>0</th>\n",
       "      <td>Azamara</td>\n",
       "      <td>6</td>\n",
       "      <td>30.277</td>\n",
       "      <td>6.94</td>\n",
       "      <td>5.94</td>\n",
       "      <td>3.55</td>\n",
       "      <td>3.55</td>\n",
       "      <td>0</td>\n",
       "      <td>0</td>\n",
       "      <td>0</td>\n",
       "      <td>0</td>\n",
       "      <td>0</td>\n",
       "      <td>0</td>\n",
       "      <td>0</td>\n",
       "      <td>1</td>\n",
       "    </tr>\n",
       "    <tr>\n",
       "      <th>1</th>\n",
       "      <td>Azamara</td>\n",
       "      <td>6</td>\n",
       "      <td>30.277</td>\n",
       "      <td>6.94</td>\n",
       "      <td>5.94</td>\n",
       "      <td>3.55</td>\n",
       "      <td>3.55</td>\n",
       "      <td>0</td>\n",
       "      <td>0</td>\n",
       "      <td>0</td>\n",
       "      <td>0</td>\n",
       "      <td>0</td>\n",
       "      <td>0</td>\n",
       "      <td>0</td>\n",
       "      <td>1</td>\n",
       "    </tr>\n",
       "    <tr>\n",
       "      <th>2</th>\n",
       "      <td>Carnival</td>\n",
       "      <td>26</td>\n",
       "      <td>47.262</td>\n",
       "      <td>14.86</td>\n",
       "      <td>7.22</td>\n",
       "      <td>7.43</td>\n",
       "      <td>6.70</td>\n",
       "      <td>0</td>\n",
       "      <td>0</td>\n",
       "      <td>0</td>\n",
       "      <td>0</td>\n",
       "      <td>0</td>\n",
       "      <td>0</td>\n",
       "      <td>0</td>\n",
       "      <td>0</td>\n",
       "    </tr>\n",
       "    <tr>\n",
       "      <th>3</th>\n",
       "      <td>Carnival</td>\n",
       "      <td>11</td>\n",
       "      <td>110.000</td>\n",
       "      <td>29.74</td>\n",
       "      <td>9.53</td>\n",
       "      <td>14.88</td>\n",
       "      <td>19.10</td>\n",
       "      <td>0</td>\n",
       "      <td>0</td>\n",
       "      <td>0</td>\n",
       "      <td>0</td>\n",
       "      <td>0</td>\n",
       "      <td>0</td>\n",
       "      <td>0</td>\n",
       "      <td>0</td>\n",
       "    </tr>\n",
       "    <tr>\n",
       "      <th>4</th>\n",
       "      <td>Carnival</td>\n",
       "      <td>17</td>\n",
       "      <td>101.353</td>\n",
       "      <td>26.42</td>\n",
       "      <td>8.92</td>\n",
       "      <td>13.21</td>\n",
       "      <td>10.00</td>\n",
       "      <td>0</td>\n",
       "      <td>0</td>\n",
       "      <td>0</td>\n",
       "      <td>0</td>\n",
       "      <td>0</td>\n",
       "      <td>0</td>\n",
       "      <td>0</td>\n",
       "      <td>0</td>\n",
       "    </tr>\n",
       "  </tbody>\n",
       "</table>\n",
       "</div>"
      ],
      "text/plain": [
       "  Cruise_line  Age  Tonnage  passengers  length  cabins   crew  Celebrity  \\\n",
       "0     Azamara    6   30.277        6.94    5.94    3.55   3.55          0   \n",
       "1     Azamara    6   30.277        6.94    5.94    3.55   3.55          0   \n",
       "2    Carnival   26   47.262       14.86    7.22    7.43   6.70          0   \n",
       "3    Carnival   11  110.000       29.74    9.53   14.88  19.10          0   \n",
       "4    Carnival   17  101.353       26.42    8.92   13.21  10.00          0   \n",
       "\n",
       "   Costa  Holland_American  MSC  Norwegian  Princess  Royal_Caribbean  \\\n",
       "0      0                 0    0          0         0                0   \n",
       "1      0                 0    0          0         0                0   \n",
       "2      0                 0    0          0         0                0   \n",
       "3      0                 0    0          0         0                0   \n",
       "4      0                 0    0          0         0                0   \n",
       "\n",
       "   uncommon  \n",
       "0         1  \n",
       "1         1  \n",
       "2         0  \n",
       "3         0  \n",
       "4         0  "
      ]
     },
     "execution_count": 29,
     "metadata": {},
     "output_type": "execute_result"
    }
   ],
   "source": [
    "df=pd.concat([df,dummies],axis='columns')\n",
    "df.head()"
   ]
  },
  {
   "cell_type": "code",
   "execution_count": 30,
   "id": "67d238f5",
   "metadata": {},
   "outputs": [
    {
     "data": {
      "text/html": [
       "<div>\n",
       "<style scoped>\n",
       "    .dataframe tbody tr th:only-of-type {\n",
       "        vertical-align: middle;\n",
       "    }\n",
       "\n",
       "    .dataframe tbody tr th {\n",
       "        vertical-align: top;\n",
       "    }\n",
       "\n",
       "    .dataframe thead th {\n",
       "        text-align: right;\n",
       "    }\n",
       "</style>\n",
       "<table border=\"1\" class=\"dataframe\">\n",
       "  <thead>\n",
       "    <tr style=\"text-align: right;\">\n",
       "      <th></th>\n",
       "      <th>Age</th>\n",
       "      <th>Tonnage</th>\n",
       "      <th>passengers</th>\n",
       "      <th>length</th>\n",
       "      <th>cabins</th>\n",
       "      <th>crew</th>\n",
       "      <th>Celebrity</th>\n",
       "      <th>Costa</th>\n",
       "      <th>Holland_American</th>\n",
       "      <th>MSC</th>\n",
       "      <th>Norwegian</th>\n",
       "      <th>Princess</th>\n",
       "      <th>Royal_Caribbean</th>\n",
       "      <th>uncommon</th>\n",
       "    </tr>\n",
       "  </thead>\n",
       "  <tbody>\n",
       "    <tr>\n",
       "      <th>0</th>\n",
       "      <td>6</td>\n",
       "      <td>30.277</td>\n",
       "      <td>6.94</td>\n",
       "      <td>5.94</td>\n",
       "      <td>3.55</td>\n",
       "      <td>3.55</td>\n",
       "      <td>0</td>\n",
       "      <td>0</td>\n",
       "      <td>0</td>\n",
       "      <td>0</td>\n",
       "      <td>0</td>\n",
       "      <td>0</td>\n",
       "      <td>0</td>\n",
       "      <td>1</td>\n",
       "    </tr>\n",
       "    <tr>\n",
       "      <th>1</th>\n",
       "      <td>6</td>\n",
       "      <td>30.277</td>\n",
       "      <td>6.94</td>\n",
       "      <td>5.94</td>\n",
       "      <td>3.55</td>\n",
       "      <td>3.55</td>\n",
       "      <td>0</td>\n",
       "      <td>0</td>\n",
       "      <td>0</td>\n",
       "      <td>0</td>\n",
       "      <td>0</td>\n",
       "      <td>0</td>\n",
       "      <td>0</td>\n",
       "      <td>1</td>\n",
       "    </tr>\n",
       "    <tr>\n",
       "      <th>2</th>\n",
       "      <td>26</td>\n",
       "      <td>47.262</td>\n",
       "      <td>14.86</td>\n",
       "      <td>7.22</td>\n",
       "      <td>7.43</td>\n",
       "      <td>6.70</td>\n",
       "      <td>0</td>\n",
       "      <td>0</td>\n",
       "      <td>0</td>\n",
       "      <td>0</td>\n",
       "      <td>0</td>\n",
       "      <td>0</td>\n",
       "      <td>0</td>\n",
       "      <td>0</td>\n",
       "    </tr>\n",
       "    <tr>\n",
       "      <th>3</th>\n",
       "      <td>11</td>\n",
       "      <td>110.000</td>\n",
       "      <td>29.74</td>\n",
       "      <td>9.53</td>\n",
       "      <td>14.88</td>\n",
       "      <td>19.10</td>\n",
       "      <td>0</td>\n",
       "      <td>0</td>\n",
       "      <td>0</td>\n",
       "      <td>0</td>\n",
       "      <td>0</td>\n",
       "      <td>0</td>\n",
       "      <td>0</td>\n",
       "      <td>0</td>\n",
       "    </tr>\n",
       "    <tr>\n",
       "      <th>4</th>\n",
       "      <td>17</td>\n",
       "      <td>101.353</td>\n",
       "      <td>26.42</td>\n",
       "      <td>8.92</td>\n",
       "      <td>13.21</td>\n",
       "      <td>10.00</td>\n",
       "      <td>0</td>\n",
       "      <td>0</td>\n",
       "      <td>0</td>\n",
       "      <td>0</td>\n",
       "      <td>0</td>\n",
       "      <td>0</td>\n",
       "      <td>0</td>\n",
       "      <td>0</td>\n",
       "    </tr>\n",
       "    <tr>\n",
       "      <th>...</th>\n",
       "      <td>...</td>\n",
       "      <td>...</td>\n",
       "      <td>...</td>\n",
       "      <td>...</td>\n",
       "      <td>...</td>\n",
       "      <td>...</td>\n",
       "      <td>...</td>\n",
       "      <td>...</td>\n",
       "      <td>...</td>\n",
       "      <td>...</td>\n",
       "      <td>...</td>\n",
       "      <td>...</td>\n",
       "      <td>...</td>\n",
       "      <td>...</td>\n",
       "    </tr>\n",
       "    <tr>\n",
       "      <th>153</th>\n",
       "      <td>22</td>\n",
       "      <td>3.341</td>\n",
       "      <td>0.66</td>\n",
       "      <td>2.79</td>\n",
       "      <td>0.33</td>\n",
       "      <td>0.59</td>\n",
       "      <td>0</td>\n",
       "      <td>0</td>\n",
       "      <td>0</td>\n",
       "      <td>0</td>\n",
       "      <td>0</td>\n",
       "      <td>0</td>\n",
       "      <td>0</td>\n",
       "      <td>1</td>\n",
       "    </tr>\n",
       "    <tr>\n",
       "      <th>154</th>\n",
       "      <td>14</td>\n",
       "      <td>76.800</td>\n",
       "      <td>19.60</td>\n",
       "      <td>8.79</td>\n",
       "      <td>9.67</td>\n",
       "      <td>12.00</td>\n",
       "      <td>0</td>\n",
       "      <td>0</td>\n",
       "      <td>0</td>\n",
       "      <td>0</td>\n",
       "      <td>0</td>\n",
       "      <td>0</td>\n",
       "      <td>0</td>\n",
       "      <td>1</td>\n",
       "    </tr>\n",
       "    <tr>\n",
       "      <th>155</th>\n",
       "      <td>25</td>\n",
       "      <td>5.350</td>\n",
       "      <td>1.58</td>\n",
       "      <td>4.40</td>\n",
       "      <td>0.74</td>\n",
       "      <td>0.88</td>\n",
       "      <td>0</td>\n",
       "      <td>0</td>\n",
       "      <td>0</td>\n",
       "      <td>0</td>\n",
       "      <td>0</td>\n",
       "      <td>0</td>\n",
       "      <td>0</td>\n",
       "      <td>1</td>\n",
       "    </tr>\n",
       "    <tr>\n",
       "      <th>156</th>\n",
       "      <td>27</td>\n",
       "      <td>5.350</td>\n",
       "      <td>1.67</td>\n",
       "      <td>4.40</td>\n",
       "      <td>0.74</td>\n",
       "      <td>0.88</td>\n",
       "      <td>0</td>\n",
       "      <td>0</td>\n",
       "      <td>0</td>\n",
       "      <td>0</td>\n",
       "      <td>0</td>\n",
       "      <td>0</td>\n",
       "      <td>0</td>\n",
       "      <td>1</td>\n",
       "    </tr>\n",
       "    <tr>\n",
       "      <th>157</th>\n",
       "      <td>23</td>\n",
       "      <td>14.745</td>\n",
       "      <td>3.08</td>\n",
       "      <td>6.17</td>\n",
       "      <td>1.56</td>\n",
       "      <td>1.80</td>\n",
       "      <td>0</td>\n",
       "      <td>0</td>\n",
       "      <td>0</td>\n",
       "      <td>0</td>\n",
       "      <td>0</td>\n",
       "      <td>0</td>\n",
       "      <td>0</td>\n",
       "      <td>1</td>\n",
       "    </tr>\n",
       "  </tbody>\n",
       "</table>\n",
       "<p>158 rows × 14 columns</p>\n",
       "</div>"
      ],
      "text/plain": [
       "     Age  Tonnage  passengers  length  cabins   crew  Celebrity  Costa  \\\n",
       "0      6   30.277        6.94    5.94    3.55   3.55          0      0   \n",
       "1      6   30.277        6.94    5.94    3.55   3.55          0      0   \n",
       "2     26   47.262       14.86    7.22    7.43   6.70          0      0   \n",
       "3     11  110.000       29.74    9.53   14.88  19.10          0      0   \n",
       "4     17  101.353       26.42    8.92   13.21  10.00          0      0   \n",
       "..   ...      ...         ...     ...     ...    ...        ...    ...   \n",
       "153   22    3.341        0.66    2.79    0.33   0.59          0      0   \n",
       "154   14   76.800       19.60    8.79    9.67  12.00          0      0   \n",
       "155   25    5.350        1.58    4.40    0.74   0.88          0      0   \n",
       "156   27    5.350        1.67    4.40    0.74   0.88          0      0   \n",
       "157   23   14.745        3.08    6.17    1.56   1.80          0      0   \n",
       "\n",
       "     Holland_American  MSC  Norwegian  Princess  Royal_Caribbean  uncommon  \n",
       "0                   0    0          0         0                0         1  \n",
       "1                   0    0          0         0                0         1  \n",
       "2                   0    0          0         0                0         0  \n",
       "3                   0    0          0         0                0         0  \n",
       "4                   0    0          0         0                0         0  \n",
       "..                ...  ...        ...       ...              ...       ...  \n",
       "153                 0    0          0         0                0         1  \n",
       "154                 0    0          0         0                0         1  \n",
       "155                 0    0          0         0                0         1  \n",
       "156                 0    0          0         0                0         1  \n",
       "157                 0    0          0         0                0         1  \n",
       "\n",
       "[158 rows x 14 columns]"
      ]
     },
     "execution_count": 30,
     "metadata": {},
     "output_type": "execute_result"
    }
   ],
   "source": [
    "df=df.drop('Cruise_line',axis='columns')\n",
    "df"
   ]
  },
  {
   "cell_type": "markdown",
   "id": "f3e976f8",
   "metadata": {},
   "source": [
    "### Removing Outliers"
   ]
  },
  {
   "cell_type": "code",
   "execution_count": 31,
   "id": "266b2d0e",
   "metadata": {},
   "outputs": [],
   "source": [
    "def remove_outlier(df):\n",
    "  for column_name in df.columns:\n",
    "    Q1 = df[column_name].quantile(0.25)\n",
    "    Q3 = df[column_name].quantile(0.75)\n",
    "    IQR = Q3 - Q1\n",
    "    lower_limit = Q1 - 1.5*IQR\n",
    "    upper_limit = Q3 + 1.5*IQR\n",
    "    print(lower_limit, upper_limit)\n",
    "    dataset = df[(df[column_name] > lower_limit) | (df[column_name] < upper_limit)] \n",
    "  return df"
   ]
  },
  {
   "cell_type": "code",
   "execution_count": 32,
   "id": "78641014",
   "metadata": {},
   "outputs": [
    {
     "name": "stdout",
     "output_type": "stream",
     "text": [
      "-5.0 35.0\n",
      "-21.12625000000002 157.91175000000004\n",
      "-5.929999999999996 43.309999999999995\n",
      "3.4849999999999994 13.125\n",
      "-0.996249999999999 18.013749999999998\n",
      "-1.2849999999999993 16.755\n",
      "0.0 0.0\n",
      "0.0 0.0\n",
      "0.0 0.0\n",
      "0.0 0.0\n",
      "0.0 0.0\n",
      "0.0 0.0\n",
      "0.0 0.0\n",
      "-1.125 1.875\n"
     ]
    },
    {
     "data": {
      "text/html": [
       "<div>\n",
       "<style scoped>\n",
       "    .dataframe tbody tr th:only-of-type {\n",
       "        vertical-align: middle;\n",
       "    }\n",
       "\n",
       "    .dataframe tbody tr th {\n",
       "        vertical-align: top;\n",
       "    }\n",
       "\n",
       "    .dataframe thead th {\n",
       "        text-align: right;\n",
       "    }\n",
       "</style>\n",
       "<table border=\"1\" class=\"dataframe\">\n",
       "  <thead>\n",
       "    <tr style=\"text-align: right;\">\n",
       "      <th></th>\n",
       "      <th>Age</th>\n",
       "      <th>Tonnage</th>\n",
       "      <th>passengers</th>\n",
       "      <th>length</th>\n",
       "      <th>cabins</th>\n",
       "      <th>crew</th>\n",
       "      <th>Celebrity</th>\n",
       "      <th>Costa</th>\n",
       "      <th>Holland_American</th>\n",
       "      <th>MSC</th>\n",
       "      <th>Norwegian</th>\n",
       "      <th>Princess</th>\n",
       "      <th>Royal_Caribbean</th>\n",
       "      <th>uncommon</th>\n",
       "    </tr>\n",
       "  </thead>\n",
       "  <tbody>\n",
       "    <tr>\n",
       "      <th>0</th>\n",
       "      <td>6</td>\n",
       "      <td>30.277</td>\n",
       "      <td>6.94</td>\n",
       "      <td>5.94</td>\n",
       "      <td>3.55</td>\n",
       "      <td>3.55</td>\n",
       "      <td>0</td>\n",
       "      <td>0</td>\n",
       "      <td>0</td>\n",
       "      <td>0</td>\n",
       "      <td>0</td>\n",
       "      <td>0</td>\n",
       "      <td>0</td>\n",
       "      <td>1</td>\n",
       "    </tr>\n",
       "    <tr>\n",
       "      <th>1</th>\n",
       "      <td>6</td>\n",
       "      <td>30.277</td>\n",
       "      <td>6.94</td>\n",
       "      <td>5.94</td>\n",
       "      <td>3.55</td>\n",
       "      <td>3.55</td>\n",
       "      <td>0</td>\n",
       "      <td>0</td>\n",
       "      <td>0</td>\n",
       "      <td>0</td>\n",
       "      <td>0</td>\n",
       "      <td>0</td>\n",
       "      <td>0</td>\n",
       "      <td>1</td>\n",
       "    </tr>\n",
       "    <tr>\n",
       "      <th>2</th>\n",
       "      <td>26</td>\n",
       "      <td>47.262</td>\n",
       "      <td>14.86</td>\n",
       "      <td>7.22</td>\n",
       "      <td>7.43</td>\n",
       "      <td>6.70</td>\n",
       "      <td>0</td>\n",
       "      <td>0</td>\n",
       "      <td>0</td>\n",
       "      <td>0</td>\n",
       "      <td>0</td>\n",
       "      <td>0</td>\n",
       "      <td>0</td>\n",
       "      <td>0</td>\n",
       "    </tr>\n",
       "    <tr>\n",
       "      <th>3</th>\n",
       "      <td>11</td>\n",
       "      <td>110.000</td>\n",
       "      <td>29.74</td>\n",
       "      <td>9.53</td>\n",
       "      <td>14.88</td>\n",
       "      <td>19.10</td>\n",
       "      <td>0</td>\n",
       "      <td>0</td>\n",
       "      <td>0</td>\n",
       "      <td>0</td>\n",
       "      <td>0</td>\n",
       "      <td>0</td>\n",
       "      <td>0</td>\n",
       "      <td>0</td>\n",
       "    </tr>\n",
       "    <tr>\n",
       "      <th>4</th>\n",
       "      <td>17</td>\n",
       "      <td>101.353</td>\n",
       "      <td>26.42</td>\n",
       "      <td>8.92</td>\n",
       "      <td>13.21</td>\n",
       "      <td>10.00</td>\n",
       "      <td>0</td>\n",
       "      <td>0</td>\n",
       "      <td>0</td>\n",
       "      <td>0</td>\n",
       "      <td>0</td>\n",
       "      <td>0</td>\n",
       "      <td>0</td>\n",
       "      <td>0</td>\n",
       "    </tr>\n",
       "    <tr>\n",
       "      <th>...</th>\n",
       "      <td>...</td>\n",
       "      <td>...</td>\n",
       "      <td>...</td>\n",
       "      <td>...</td>\n",
       "      <td>...</td>\n",
       "      <td>...</td>\n",
       "      <td>...</td>\n",
       "      <td>...</td>\n",
       "      <td>...</td>\n",
       "      <td>...</td>\n",
       "      <td>...</td>\n",
       "      <td>...</td>\n",
       "      <td>...</td>\n",
       "      <td>...</td>\n",
       "    </tr>\n",
       "    <tr>\n",
       "      <th>153</th>\n",
       "      <td>22</td>\n",
       "      <td>3.341</td>\n",
       "      <td>0.66</td>\n",
       "      <td>2.79</td>\n",
       "      <td>0.33</td>\n",
       "      <td>0.59</td>\n",
       "      <td>0</td>\n",
       "      <td>0</td>\n",
       "      <td>0</td>\n",
       "      <td>0</td>\n",
       "      <td>0</td>\n",
       "      <td>0</td>\n",
       "      <td>0</td>\n",
       "      <td>1</td>\n",
       "    </tr>\n",
       "    <tr>\n",
       "      <th>154</th>\n",
       "      <td>14</td>\n",
       "      <td>76.800</td>\n",
       "      <td>19.60</td>\n",
       "      <td>8.79</td>\n",
       "      <td>9.67</td>\n",
       "      <td>12.00</td>\n",
       "      <td>0</td>\n",
       "      <td>0</td>\n",
       "      <td>0</td>\n",
       "      <td>0</td>\n",
       "      <td>0</td>\n",
       "      <td>0</td>\n",
       "      <td>0</td>\n",
       "      <td>1</td>\n",
       "    </tr>\n",
       "    <tr>\n",
       "      <th>155</th>\n",
       "      <td>25</td>\n",
       "      <td>5.350</td>\n",
       "      <td>1.58</td>\n",
       "      <td>4.40</td>\n",
       "      <td>0.74</td>\n",
       "      <td>0.88</td>\n",
       "      <td>0</td>\n",
       "      <td>0</td>\n",
       "      <td>0</td>\n",
       "      <td>0</td>\n",
       "      <td>0</td>\n",
       "      <td>0</td>\n",
       "      <td>0</td>\n",
       "      <td>1</td>\n",
       "    </tr>\n",
       "    <tr>\n",
       "      <th>156</th>\n",
       "      <td>27</td>\n",
       "      <td>5.350</td>\n",
       "      <td>1.67</td>\n",
       "      <td>4.40</td>\n",
       "      <td>0.74</td>\n",
       "      <td>0.88</td>\n",
       "      <td>0</td>\n",
       "      <td>0</td>\n",
       "      <td>0</td>\n",
       "      <td>0</td>\n",
       "      <td>0</td>\n",
       "      <td>0</td>\n",
       "      <td>0</td>\n",
       "      <td>1</td>\n",
       "    </tr>\n",
       "    <tr>\n",
       "      <th>157</th>\n",
       "      <td>23</td>\n",
       "      <td>14.745</td>\n",
       "      <td>3.08</td>\n",
       "      <td>6.17</td>\n",
       "      <td>1.56</td>\n",
       "      <td>1.80</td>\n",
       "      <td>0</td>\n",
       "      <td>0</td>\n",
       "      <td>0</td>\n",
       "      <td>0</td>\n",
       "      <td>0</td>\n",
       "      <td>0</td>\n",
       "      <td>0</td>\n",
       "      <td>1</td>\n",
       "    </tr>\n",
       "  </tbody>\n",
       "</table>\n",
       "<p>158 rows × 14 columns</p>\n",
       "</div>"
      ],
      "text/plain": [
       "     Age  Tonnage  passengers  length  cabins   crew  Celebrity  Costa  \\\n",
       "0      6   30.277        6.94    5.94    3.55   3.55          0      0   \n",
       "1      6   30.277        6.94    5.94    3.55   3.55          0      0   \n",
       "2     26   47.262       14.86    7.22    7.43   6.70          0      0   \n",
       "3     11  110.000       29.74    9.53   14.88  19.10          0      0   \n",
       "4     17  101.353       26.42    8.92   13.21  10.00          0      0   \n",
       "..   ...      ...         ...     ...     ...    ...        ...    ...   \n",
       "153   22    3.341        0.66    2.79    0.33   0.59          0      0   \n",
       "154   14   76.800       19.60    8.79    9.67  12.00          0      0   \n",
       "155   25    5.350        1.58    4.40    0.74   0.88          0      0   \n",
       "156   27    5.350        1.67    4.40    0.74   0.88          0      0   \n",
       "157   23   14.745        3.08    6.17    1.56   1.80          0      0   \n",
       "\n",
       "     Holland_American  MSC  Norwegian  Princess  Royal_Caribbean  uncommon  \n",
       "0                   0    0          0         0                0         1  \n",
       "1                   0    0          0         0                0         1  \n",
       "2                   0    0          0         0                0         0  \n",
       "3                   0    0          0         0                0         0  \n",
       "4                   0    0          0         0                0         0  \n",
       "..                ...  ...        ...       ...              ...       ...  \n",
       "153                 0    0          0         0                0         1  \n",
       "154                 0    0          0         0                0         1  \n",
       "155                 0    0          0         0                0         1  \n",
       "156                 0    0          0         0                0         1  \n",
       "157                 0    0          0         0                0         1  \n",
       "\n",
       "[158 rows x 14 columns]"
      ]
     },
     "execution_count": 32,
     "metadata": {},
     "output_type": "execute_result"
    }
   ],
   "source": [
    "remove_outlier(df)"
   ]
  },
  {
   "cell_type": "code",
   "execution_count": 33,
   "id": "c5efe004",
   "metadata": {},
   "outputs": [
    {
     "name": "stdout",
     "output_type": "stream",
     "text": [
      "-5.0 35.0\n",
      "-21.12625000000002 157.91175000000004\n",
      "-5.929999999999996 43.309999999999995\n",
      "3.4849999999999994 13.125\n",
      "-0.996249999999999 18.013749999999998\n",
      "-1.2849999999999993 16.755\n",
      "0.0 0.0\n",
      "0.0 0.0\n",
      "0.0 0.0\n",
      "0.0 0.0\n",
      "0.0 0.0\n",
      "0.0 0.0\n",
      "0.0 0.0\n",
      "-1.125 1.875\n"
     ]
    }
   ],
   "source": [
    "df = remove_outlier(df)"
   ]
  },
  {
   "cell_type": "markdown",
   "id": "c9286649",
   "metadata": {},
   "source": [
    "### Spliting Data Frame"
   ]
  },
  {
   "cell_type": "code",
   "execution_count": 34,
   "id": "224fa250",
   "metadata": {},
   "outputs": [],
   "source": [
    "y=df['crew']\n",
    "x=df.drop('crew',axis=1)"
   ]
  },
  {
   "cell_type": "markdown",
   "id": "0a8aca65",
   "metadata": {},
   "source": [
    "### Spliting the data into train and test set"
   ]
  },
  {
   "cell_type": "code",
   "execution_count": 35,
   "id": "35b177dd",
   "metadata": {},
   "outputs": [],
   "source": [
    "from sklearn.model_selection import train_test_split\n",
    "x_train,x_test,y_train,y_test=train_test_split(x,y,test_size=0.2,random_state=7)\n",
    "#80% for training 20% for testing"
   ]
  },
  {
   "cell_type": "markdown",
   "id": "c8a736b9",
   "metadata": {},
   "source": [
    "### Feature Scaling"
   ]
  },
  {
   "cell_type": "code",
   "execution_count": 36,
   "id": "5c2ac037",
   "metadata": {},
   "outputs": [],
   "source": [
    "from sklearn.preprocessing import StandardScaler    \n",
    "st= StandardScaler()    \n",
    "x_train= st.fit_transform(x_train)    \n",
    "x_test= st.transform(x_test)  "
   ]
  },
  {
   "cell_type": "code",
   "execution_count": 37,
   "id": "84e50cbc",
   "metadata": {},
   "outputs": [
    {
     "data": {
      "text/plain": [
       "(126, 13)"
      ]
     },
     "execution_count": 37,
     "metadata": {},
     "output_type": "execute_result"
    }
   ],
   "source": [
    "x_train.shape"
   ]
  },
  {
   "cell_type": "code",
   "execution_count": 38,
   "id": "f8106000",
   "metadata": {},
   "outputs": [
    {
     "data": {
      "text/plain": [
       "array([[ 0.91217288, -1.95382232, -1.96243281, -3.13023805, -2.04667747,\n",
       "        -0.24253563, -0.29361011, -0.32444284, -0.24253563, -0.26037782,\n",
       "        -0.36760731, -0.42139067,  1.87082869],\n",
       "       [ 0.63981794, -0.63766906, -0.17335943, -0.40537196, -0.08172024,\n",
       "        -0.24253563, -0.29361011, -0.32444284, -0.24253563,  3.84057287,\n",
       "        -0.36760731, -0.42139067, -0.53452248],\n",
       "       [ 1.59306021, -0.55129294, -0.44352866, -0.15243081, -0.37844981,\n",
       "        -0.24253563, -0.29361011,  3.082207  , -0.24253563, -0.26037782,\n",
       "        -0.36760731, -0.42139067, -0.53452248],\n",
       "       [-0.17724686,  0.09353029,  0.09680979,  0.16374564,  0.21500933,\n",
       "        -0.24253563, -0.29361011, -0.32444284, -0.24253563,  3.84057287,\n",
       "        -0.36760731, -0.42139067, -0.53452248],\n",
       "       [ 0.91217288, -0.10794922, -0.34141745, -0.12368749, -0.26630005,\n",
       "        -0.24253563, -0.29361011, -0.32444284, -0.24253563, -0.26037782,\n",
       "         2.7202941 , -0.42139067, -0.53452248],\n",
       "       [ 1.32070528, -1.09591766, -0.91366565, -1.20443607, -0.89480599,\n",
       "        -0.24253563, -0.29361011, -0.32444284, -0.24253563,  3.84057287,\n",
       "        -0.36760731, -0.42139067, -0.53452248],\n",
       "       [-0.31342433, -1.20619153, -1.30509193, -1.32515798, -1.3247134 ,\n",
       "        -0.24253563, -0.29361011, -0.32444284, -0.24253563, -0.26037782,\n",
       "        -0.36760731, -0.42139067,  1.87082869],\n",
       "       [-0.4496018 , -0.65876348, -1.2880734 , -0.66406178, -1.29667596,\n",
       "        -0.24253563, -0.29361011, -0.32444284, -0.24253563, -0.26037782,\n",
       "        -0.36760731, -0.42139067,  1.87082869],\n",
       "       [-0.31342433, -1.352659  , -1.62631676, -1.30791199, -1.67050849,\n",
       "        -0.24253563, -0.29361011, -0.32444284, -0.24253563, -0.26037782,\n",
       "        -0.36760731, -0.42139067,  1.87082869],\n",
       "       [-0.17724686, -0.29793781, -0.50096621, -0.27315272, -0.44153405,\n",
       "        -0.24253563, -0.29361011,  3.082207  , -0.24253563, -0.26037782,\n",
       "        -0.36760731, -0.42139067, -0.53452248],\n",
       "       [-0.8581342 ,  1.08985323,  0.81158822,  0.72711457,  1.00005765,\n",
       "        -0.24253563, -0.29361011, -0.32444284, -0.24253563, -0.26037782,\n",
       "         2.7202941 , -0.42139067, -0.53452248],\n",
       "       [ 0.36746301, -0.12715624, -0.03082921,  0.16374564,  0.0117379 ,\n",
       "        -0.24253563, -0.29361011, -0.32444284, -0.24253563, -0.26037782,\n",
       "        -0.36760731, -0.42139067,  1.87082869],\n",
       "       [ 0.23128554, -0.09346068,  0.14999271,  0.17524296,  0.25940195,\n",
       "        -0.24253563, -0.29361011, -0.32444284, -0.24253563, -0.26037782,\n",
       "        -0.36760731, -0.42139067, -0.53452248],\n",
       "       [ 0.36746301, -0.08682704, -0.14995895, -0.05470354, -0.07938378,\n",
       "         4.12310563, -0.29361011, -0.32444284, -0.24253563, -0.26037782,\n",
       "        -0.36760731, -0.42139067, -0.53452248],\n",
       "       [ 0.23128554,  0.01117877,  0.04149956,  0.52591138,  0.15426155,\n",
       "        -0.24253563, -0.29361011, -0.32444284, -0.24253563, -0.26037782,\n",
       "        -0.36760731,  2.3730948 , -0.53452248],\n",
       "       [ 1.04835034, -1.63729494, -1.70502748, -1.19293874, -1.75929371,\n",
       "        -0.24253563, -0.29361011, -0.32444284, -0.24253563, -0.26037782,\n",
       "        -0.36760731, -0.42139067,  1.87082869],\n",
       "       [-1.13048913,  0.44036702,  0.67969458,  0.7846012 ,  0.85519754,\n",
       "        -0.24253563, -0.29361011, -0.32444284,  4.12310563, -0.26037782,\n",
       "        -0.36760731, -0.42139067, -0.53452248],\n",
       "       [ 1.72923768, -0.76834346, -0.48820231, -0.56058585, -0.42751533,\n",
       "        -0.24253563, -0.29361011, -0.32444284, -0.24253563, -0.26037782,\n",
       "        -0.36760731, -0.42139067, -0.53452248],\n",
       "       [-0.17724686,  0.25717861, -0.17123211,  0.80184719, -0.07938378,\n",
       "        -0.24253563, -0.29361011, -0.32444284, -0.24253563, -0.26037782,\n",
       "        -0.36760731, -0.42139067,  1.87082869],\n",
       "       [-1.2666666 ,  0.45146935,  0.09468248,  0.80184719,  0.28043003,\n",
       "        -0.24253563, -0.29361011, -0.32444284, -0.24253563, -0.26037782,\n",
       "        -0.36760731, -0.42139067,  1.87082869],\n",
       "       [ 0.50364047, -1.58025673, -1.71779138, -1.78505099, -1.77798534,\n",
       "        -0.24253563, -0.29361011, -0.32444284, -0.24253563, -0.26037782,\n",
       "        -0.36760731, -0.42139067,  1.87082869],\n",
       "       [ 1.04835034, -1.352659  , -1.20723536, -1.16419543, -1.22190945,\n",
       "        -0.24253563,  3.40587727, -0.32444284, -0.24253563, -0.26037782,\n",
       "        -0.36760731, -0.42139067, -0.53452248],\n",
       "       [ 4.45278703, -1.433706  , -1.15405245, -1.41713658, -1.13078777,\n",
       "        -0.24253563, -0.29361011, -0.32444284, -0.24253563, -0.26037782,\n",
       "        -0.36760731, -0.42139067,  1.87082869],\n",
       "       [-0.72195673,  0.09064368,  0.11170101,  0.18099162,  0.15426155,\n",
       "        -0.24253563, -0.29361011, -0.32444284, -0.24253563, -0.26037782,\n",
       "        -0.36760731, -0.42139067,  1.87082869],\n",
       "       [ 0.09510807,  0.11043358, -0.03082921,  0.23847825,  0.06080342,\n",
       "         4.12310563, -0.29361011, -0.32444284, -0.24253563, -0.26037782,\n",
       "        -0.36760731, -0.42139067, -0.53452248],\n",
       "       [ 0.91217288,  0.00573863,  0.8860443 ,  0.31895953,  0.62622512,\n",
       "        -0.24253563, -0.29361011, -0.32444284, -0.24253563, -0.26037782,\n",
       "        -0.36760731,  2.3730948 , -0.53452248],\n",
       "       [-0.99431167,  0.47922517,  0.35421512,  0.80759585,  0.49772018,\n",
       "        -0.24253563, -0.29361011, -0.32444284, -0.24253563,  3.84057287,\n",
       "        -0.36760731, -0.42139067, -0.53452248],\n",
       "       [-1.53902154,  4.05972606,  3.71112093,  2.05505564,  4.18464351,\n",
       "        -0.24253563, -0.29361011, -0.32444284, -0.24253563, -0.26037782,\n",
       "        -0.36760731,  2.3730948 , -0.53452248],\n",
       "       [-0.04106939,  0.13202761,  0.55737387,  0.52016272,  0.21267288,\n",
       "        -0.24253563, -0.29361011, -0.32444284, -0.24253563, -0.26037782,\n",
       "        -0.36760731,  2.3730948 , -0.53452248],\n",
       "       [-0.4496018 , -1.98191121, -1.93265037, -3.03825944, -2.01864003,\n",
       "         4.12310563, -0.29361011, -0.32444284, -0.24253563, -0.26037782,\n",
       "        -0.36760731, -0.42139067, -0.53452248],\n",
       "       [ 1.32070528, -0.88081005, -0.43289207, -0.66981044, -0.36676754,\n",
       "        -0.24253563, -0.29361011, -0.32444284, -0.24253563,  3.84057287,\n",
       "        -0.36760731, -0.42139067, -0.53452248],\n",
       "       [-0.72195673, -0.15915871, -0.88388322, -0.19842011, -0.83873111,\n",
       "        -0.24253563, -0.29361011, -0.32444284, -0.24253563, -0.26037782,\n",
       "        -0.36760731, -0.42139067,  1.87082869]])"
      ]
     },
     "execution_count": 38,
     "metadata": {},
     "output_type": "execute_result"
    }
   ],
   "source": [
    "x_test"
   ]
  },
  {
   "cell_type": "code",
   "execution_count": 39,
   "id": "f771ae77",
   "metadata": {},
   "outputs": [
    {
     "data": {
      "text/plain": [
       "101    12.38\n",
       "46      5.45\n",
       "37      6.36\n",
       "52      6.00\n",
       "117     2.11\n",
       "       ...  \n",
       "92      5.20\n",
       "103    11.00\n",
       "151     6.80\n",
       "67     13.13\n",
       "25      9.99\n",
       "Name: crew, Length: 126, dtype: float64"
      ]
     },
     "execution_count": 39,
     "metadata": {},
     "output_type": "execute_result"
    }
   ],
   "source": [
    "y_train"
   ]
  },
  {
   "cell_type": "markdown",
   "id": "13dbb924",
   "metadata": {},
   "source": [
    "### Model Building"
   ]
  },
  {
   "cell_type": "code",
   "execution_count": 40,
   "id": "2377b972",
   "metadata": {},
   "outputs": [],
   "source": [
    "from sklearn.linear_model import LinearRegression\n",
    "model = LinearRegression()\n",
    "\n",
    "model.fit(x_train,y_train)\n",
    "y_train_pred = model.predict(x_train)\n",
    "y_test_pred = model.predict(x_test)"
   ]
  },
  {
   "cell_type": "code",
   "execution_count": 41,
   "id": "0f782fcc",
   "metadata": {},
   "outputs": [
    {
     "data": {
      "text/plain": [
       "0.931956461116654"
      ]
     },
     "execution_count": 41,
     "metadata": {},
     "output_type": "execute_result"
    }
   ],
   "source": [
    "model.score(x_train,y_train)"
   ]
  },
  {
   "cell_type": "code",
   "execution_count": 42,
   "id": "417f378e",
   "metadata": {},
   "outputs": [
    {
     "data": {
      "text/plain": [
       "0.9645147961329215"
      ]
     },
     "execution_count": 42,
     "metadata": {},
     "output_type": "execute_result"
    }
   ],
   "source": [
    "model.score(x_test,y_test)"
   ]
  },
  {
   "cell_type": "code",
   "execution_count": 44,
   "id": "c45d25b0",
   "metadata": {},
   "outputs": [],
   "source": [
    "\n",
    "from sklearn.svm import SVR"
   ]
  },
  {
   "cell_type": "code",
   "execution_count": 45,
   "id": "d39cbd83",
   "metadata": {},
   "outputs": [],
   "source": [
    "model1 = SVR()\n",
    "\n",
    "model1.fit(x_train,y_train)\n",
    "y_train_pred1 = model.predict(x_train)\n",
    "y_test_pred1 = model.predict(x_test)"
   ]
  },
  {
   "cell_type": "code",
   "execution_count": 46,
   "id": "7276a853",
   "metadata": {},
   "outputs": [
    {
     "data": {
      "text/plain": [
       "0.8953747662016067"
      ]
     },
     "execution_count": 46,
     "metadata": {},
     "output_type": "execute_result"
    }
   ],
   "source": [
    "model1.score(x_train,y_train)"
   ]
  },
  {
   "cell_type": "code",
   "execution_count": 47,
   "id": "947520f2",
   "metadata": {},
   "outputs": [
    {
     "data": {
      "text/plain": [
       "0.6161130192800981"
      ]
     },
     "execution_count": 47,
     "metadata": {},
     "output_type": "execute_result"
    }
   ],
   "source": [
    "model1.score(x_test,y_test)"
   ]
  },
  {
   "cell_type": "code",
   "execution_count": 48,
   "id": "c4a787d1",
   "metadata": {},
   "outputs": [],
   "source": [
    "from sklearn.neighbors import KNeighborsRegressor\n",
    "model2 =KNeighborsRegressor()\n",
    "\n",
    "model2.fit(x_train,y_train)\n",
    "y_train_pred2 = model.predict(x_train)\n",
    "y_test_pred2 = model.predict(x_test)"
   ]
  },
  {
   "cell_type": "code",
   "execution_count": 49,
   "id": "b45c5bd8",
   "metadata": {},
   "outputs": [
    {
     "data": {
      "text/plain": [
       "0.857572753171546"
      ]
     },
     "execution_count": 49,
     "metadata": {},
     "output_type": "execute_result"
    }
   ],
   "source": [
    "model2.score(x_train,y_train)"
   ]
  },
  {
   "cell_type": "code",
   "execution_count": 50,
   "id": "2ae1a33e",
   "metadata": {},
   "outputs": [
    {
     "data": {
      "text/plain": [
       "0.7532059869450326"
      ]
     },
     "execution_count": 50,
     "metadata": {},
     "output_type": "execute_result"
    }
   ],
   "source": [
    "model2.score(x_test,y_test)"
   ]
  },
  {
   "cell_type": "code",
   "execution_count": 51,
   "id": "eb3b9ccd",
   "metadata": {},
   "outputs": [
    {
     "data": {
      "text/plain": [
       "RandomForestRegressor()"
      ]
     },
     "execution_count": 51,
     "metadata": {},
     "output_type": "execute_result"
    }
   ],
   "source": [
    "from sklearn.ensemble import RandomForestRegressor\n",
    "rf = RandomForestRegressor()\n",
    "rf.fit(x_train, y_train)"
   ]
  },
  {
   "cell_type": "code",
   "execution_count": 52,
   "id": "ed345033",
   "metadata": {},
   "outputs": [
    {
     "data": {
      "text/plain": [
       "0.9852516990250114"
      ]
     },
     "execution_count": 52,
     "metadata": {},
     "output_type": "execute_result"
    }
   ],
   "source": [
    "rf.score(x_train, y_train)"
   ]
  },
  {
   "cell_type": "code",
   "execution_count": 53,
   "id": "c1a643b0",
   "metadata": {},
   "outputs": [
    {
     "data": {
      "text/plain": [
       "0.85147550527253"
      ]
     },
     "execution_count": 53,
     "metadata": {},
     "output_type": "execute_result"
    }
   ],
   "source": [
    "rf.score(x_test, y_test)"
   ]
  },
  {
   "cell_type": "markdown",
   "id": "9e71d343",
   "metadata": {},
   "source": [
    "#### I have used Multiple Linear Regression,Support Vector Regression,K-Nearest Neighbor(KNN),Random Forest Regressor for my model building .  Multiple Linear Regression model gives me highest accuracy for both training and test dataset."
   ]
  },
  {
   "cell_type": "code",
   "execution_count": null,
   "id": "122dc1c3",
   "metadata": {},
   "outputs": [],
   "source": []
  }
 ],
 "metadata": {
  "kernelspec": {
   "display_name": "Python 3",
   "language": "python",
   "name": "python3"
  },
  "language_info": {
   "codemirror_mode": {
    "name": "ipython",
    "version": 3
   },
   "file_extension": ".py",
   "mimetype": "text/x-python",
   "name": "python",
   "nbconvert_exporter": "python",
   "pygments_lexer": "ipython3",
   "version": "3.8.8"
  }
 },
 "nbformat": 4,
 "nbformat_minor": 5
}
